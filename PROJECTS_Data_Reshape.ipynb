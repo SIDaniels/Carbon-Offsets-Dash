{
 "cells": [
  {
   "cell_type": "code",
   "execution_count": 25,
   "id": "ff250ad9",
   "metadata": {},
   "outputs": [],
   "source": [
    "import pandas as pd\n",
    "from functools import reduce"
   ]
  },
  {
   "cell_type": "code",
   "execution_count": 3,
   "id": "1ab6ed30",
   "metadata": {},
   "outputs": [
    {
     "name": "stderr",
     "output_type": "stream",
     "text": [
      "/var/folders/s7/_b96xmkx3klbpc4y0sz29j0r0000gn/T/ipykernel_16925/3132898542.py:1: DtypeWarning: Columns (19,20,21,44,55,56,72,74,75,76,77,99,109,121,124,125,126,142) have mixed types. Specify dtype option on import or set low_memory=False.\n",
      "  full_df=pd.read_csv('PROJECTS.csv')\n"
     ]
    }
   ],
   "source": [
    "full_df=pd.read_csv('PROJECTS.csv')"
   ]
  },
  {
   "cell_type": "code",
   "execution_count": 177,
   "id": "40237938",
   "metadata": {},
   "outputs": [
    {
     "name": "stdout",
     "output_type": "stream",
     "text": [
      "<class 'pandas.core.frame.DataFrame'>\n",
      "RangeIndex: 6081 entries, 0 to 6080\n",
      "Columns: 148 entries, Project ID to first issuance yr (no hard code, hide w formulas)\n",
      "dtypes: float64(112), object(36)\n",
      "memory usage: 6.9+ MB\n"
     ]
    }
   ],
   "source": [
    "full_df.info()"
   ]
  },
  {
   "cell_type": "code",
   "execution_count": 144,
   "id": "f09cc4f3",
   "metadata": {},
   "outputs": [],
   "source": [
    "for x in full_df.iloc[:,18:100]:\n",
    "    full_df[x] = full_df[x].astype('string')"
   ]
  },
  {
   "cell_type": "code",
   "execution_count": 145,
   "id": "726bbc90",
   "metadata": {},
   "outputs": [],
   "source": [
    "for x in full_df.iloc[:,18:100]:\n",
    "    full_df[x] = full_df[x].str.replace(',', '').astype(float)"
   ]
  },
  {
   "cell_type": "code",
   "execution_count": 153,
   "id": "31178858",
   "metadata": {},
   "outputs": [],
   "source": [
    "for x in full_df.iloc[:,115:142]:\n",
    "    full_df[x] = full_df[x].astype('string')"
   ]
  },
  {
   "cell_type": "code",
   "execution_count": 154,
   "id": "9150a2a3",
   "metadata": {},
   "outputs": [],
   "source": [
    "for x in full_df.iloc[:,115:142]:\n",
    "    full_df[x] = full_df[x].str.replace(',', '').astype(float)"
   ]
  },
  {
   "cell_type": "code",
   "execution_count": 160,
   "id": "9990c999",
   "metadata": {},
   "outputs": [
    {
     "data": {
      "text/plain": [
       "219030066.0"
      ]
     },
     "execution_count": 160,
     "metadata": {},
     "output_type": "execute_result"
    }
   ],
   "source": [
    "full_df['2020.3'].sum()"
   ]
  },
  {
   "cell_type": "code",
   "execution_count": 6,
   "id": "4525eeef",
   "metadata": {},
   "outputs": [
    {
     "name": "stdout",
     "output_type": "stream",
     "text": [
      "<class 'pandas.core.frame.DataFrame'>\n",
      "RangeIndex: 6081 entries, 0 to 6080\n",
      "Data columns (total 10 columns):\n",
      " #   Column                                Non-Null Count  Dtype \n",
      "---  ------                                --------------  ----- \n",
      " 0   Project Owner                         1565 non-null   object\n",
      " 1   Offset Project Operator               402 non-null    object\n",
      " 2   Authorized Project Designee           340 non-null    object\n",
      " 3   Verifier                              636 non-null    object\n",
      " 4   Estimated Annual Emission Reductions  4854 non-null   object\n",
      " 5   PERs                                  18 non-null     object\n",
      " 6   Registry / ARB                        6081 non-null   object\n",
      " 7   ARB Project Detail                    1196 non-null   object\n",
      " 8   ARB ID                                526 non-null    object\n",
      " 9   Project Listed                        683 non-null    object\n",
      "dtypes: object(10)\n",
      "memory usage: 475.2+ KB\n"
     ]
    }
   ],
   "source": [
    "for x in full_df.iloc[:,18:100]:\n",
    "    full_df[x] = full_df[x].astype('string')"
   ]
  },
  {
   "cell_type": "code",
   "execution_count": 152,
   "id": "c61bd544",
   "metadata": {},
   "outputs": [
    {
     "name": "stdout",
     "output_type": "stream",
     "text": [
      "<class 'pandas.core.frame.DataFrame'>\n",
      "RangeIndex: 6081 entries, 0 to 6080\n",
      "Data columns (total 28 columns):\n",
      " #   Column           Non-Null Count  Dtype  \n",
      "---  ------           --------------  -----  \n",
      " 0   Project Website  2747 non-null   object \n",
      " 1   1996.3           6077 non-null   float64\n",
      " 2   1997.3           6077 non-null   float64\n",
      " 3   1998.3           6077 non-null   float64\n",
      " 4   1999.3           6077 non-null   float64\n",
      " 5   2000.3           6077 non-null   float64\n",
      " 6   2001.3           6077 non-null   float64\n",
      " 7   2002.3           6077 non-null   object \n",
      " 8   2003.3           6077 non-null   float64\n",
      " 9   2004.3           6077 non-null   float64\n",
      " 10  2005.3           6077 non-null   object \n",
      " 11  2006.3           6077 non-null   object \n",
      " 12  2007.3           6077 non-null   object \n",
      " 13  2008.3           6077 non-null   object \n",
      " 14  2009.3           6077 non-null   object \n",
      " 15  2010.3           6077 non-null   object \n",
      " 16  2011.3           6077 non-null   object \n",
      " 17  2012.3           6077 non-null   object \n",
      " 18  2013.3           6077 non-null   object \n",
      " 19  2014.3           6077 non-null   object \n",
      " 20  2015.3           6077 non-null   object \n",
      " 21  2016.3           6077 non-null   object \n",
      " 22  2017.3           6077 non-null   object \n",
      " 23  2018.3           6077 non-null   object \n",
      " 24  2019.3           6077 non-null   object \n",
      " 25  2020.3           6077 non-null   object \n",
      " 26  2021.3           6077 non-null   object \n",
      " 27  2022.3           6077 non-null   object \n",
      "dtypes: float64(8), object(20)\n",
      "memory usage: 1.3+ MB\n"
     ]
    }
   ],
   "source": [
    "full_df.iloc[:, 114:142].info()"
   ]
  },
  {
   "cell_type": "code",
   "execution_count": 10,
   "id": "7b37bd48",
   "metadata": {},
   "outputs": [],
   "source": [
    "df_melt1 = pd.melt(full_df, id_vars='Project ID', value_vars=['1996','1997','1998', '1999','2000','2001','2002','2003','2004',\n",
    "                                                       '2005','2006','2007','2008','2009','2010','2011','2012','2013','2014',\n",
    "                                                       '2015','2016','2017','2018','2019','2020','2021','2022'], var_name ='year_cred_issued', value_name='carbon_cred_issued')\n"
   ]
  },
  {
   "cell_type": "code",
   "execution_count": 11,
   "id": "11b675e9",
   "metadata": {},
   "outputs": [
    {
     "name": "stdout",
     "output_type": "stream",
     "text": [
      "<class 'pandas.core.frame.DataFrame'>\n",
      "RangeIndex: 164187 entries, 0 to 164186\n",
      "Data columns (total 3 columns):\n",
      " #   Column              Non-Null Count   Dtype \n",
      "---  ------              --------------   ----- \n",
      " 0   Project ID          164187 non-null  object\n",
      " 1   year_cred_issued    164187 non-null  object\n",
      " 2   carbon_cred_issued  164079 non-null  object\n",
      "dtypes: object(3)\n",
      "memory usage: 3.8+ MB\n"
     ]
    }
   ],
   "source": [
    "df_melt1.info()"
   ]
  },
  {
   "cell_type": "code",
   "execution_count": 103,
   "id": "0b741b1e",
   "metadata": {},
   "outputs": [],
   "source": [
    "##need to fix year unknown\n",
    "df_melt2 = pd.melt(full_df, id_vars='Project ID', value_vars=['1996.1','1997.1','1998.1', '1999.1','2000.1','2001.1','2002.1','2003.1','2004.1',\n",
    "                                                       '2005.1','2006.1','2007.1','2008.1','2009.1','2010.1','2011.1','2012.1','2013.1','2014.1',\n",
    "                                                       '2015.1','2016.1','2017.1','2018.1','2019.1','2020.1','2021.1','2022.1'], var_name ='year_cred_retire', value_name='carbon_cred_retire')\n"
   ]
  },
  {
   "cell_type": "code",
   "execution_count": 118,
   "id": "f36b020e",
   "metadata": {},
   "outputs": [
    {
     "data": {
      "text/html": [
       "<div>\n",
       "<style scoped>\n",
       "    .dataframe tbody tr th:only-of-type {\n",
       "        vertical-align: middle;\n",
       "    }\n",
       "\n",
       "    .dataframe tbody tr th {\n",
       "        vertical-align: top;\n",
       "    }\n",
       "\n",
       "    .dataframe thead th {\n",
       "        text-align: right;\n",
       "    }\n",
       "</style>\n",
       "<table border=\"1\" class=\"dataframe\">\n",
       "  <thead>\n",
       "    <tr style=\"text-align: right;\">\n",
       "      <th></th>\n",
       "      <th>Project ID</th>\n",
       "      <th>year_cred_retire</th>\n",
       "      <th>carbon_cred_retire</th>\n",
       "    </tr>\n",
       "  </thead>\n",
       "  <tbody>\n",
       "    <tr>\n",
       "      <th>164137</th>\n",
       "      <td>ACR427</td>\n",
       "      <td>2022</td>\n",
       "      <td>0</td>\n",
       "    </tr>\n",
       "    <tr>\n",
       "      <th>164138</th>\n",
       "      <td>CAR1197</td>\n",
       "      <td>2022</td>\n",
       "      <td>0</td>\n",
       "    </tr>\n",
       "    <tr>\n",
       "      <th>164139</th>\n",
       "      <td>ACR212</td>\n",
       "      <td>2022</td>\n",
       "      <td>54,646</td>\n",
       "    </tr>\n",
       "    <tr>\n",
       "      <th>164140</th>\n",
       "      <td>CAR1139</td>\n",
       "      <td>2022</td>\n",
       "      <td>0</td>\n",
       "    </tr>\n",
       "    <tr>\n",
       "      <th>164141</th>\n",
       "      <td>ACR118</td>\n",
       "      <td>2022</td>\n",
       "      <td>0</td>\n",
       "    </tr>\n",
       "    <tr>\n",
       "      <th>164142</th>\n",
       "      <td>ACR269</td>\n",
       "      <td>2022</td>\n",
       "      <td>0</td>\n",
       "    </tr>\n",
       "    <tr>\n",
       "      <th>164143</th>\n",
       "      <td>CAR1292</td>\n",
       "      <td>2022</td>\n",
       "      <td>321,187</td>\n",
       "    </tr>\n",
       "    <tr>\n",
       "      <th>164144</th>\n",
       "      <td>CAR102</td>\n",
       "      <td>2022</td>\n",
       "      <td>336</td>\n",
       "    </tr>\n",
       "    <tr>\n",
       "      <th>164145</th>\n",
       "      <td>ACR267</td>\n",
       "      <td>2022</td>\n",
       "      <td>0</td>\n",
       "    </tr>\n",
       "    <tr>\n",
       "      <th>164146</th>\n",
       "      <td>CAR1095</td>\n",
       "      <td>2022</td>\n",
       "      <td>0</td>\n",
       "    </tr>\n",
       "    <tr>\n",
       "      <th>164147</th>\n",
       "      <td>CAR768</td>\n",
       "      <td>2022</td>\n",
       "      <td>29</td>\n",
       "    </tr>\n",
       "    <tr>\n",
       "      <th>164148</th>\n",
       "      <td>CAR1257</td>\n",
       "      <td>2022</td>\n",
       "      <td>0</td>\n",
       "    </tr>\n",
       "    <tr>\n",
       "      <th>164149</th>\n",
       "      <td>ACR120</td>\n",
       "      <td>2022</td>\n",
       "      <td>0</td>\n",
       "    </tr>\n",
       "    <tr>\n",
       "      <th>164150</th>\n",
       "      <td>ACR276</td>\n",
       "      <td>2022</td>\n",
       "      <td>0</td>\n",
       "    </tr>\n",
       "    <tr>\n",
       "      <th>164151</th>\n",
       "      <td>ACR413</td>\n",
       "      <td>2022</td>\n",
       "      <td>0</td>\n",
       "    </tr>\n",
       "    <tr>\n",
       "      <th>164152</th>\n",
       "      <td>CAR408</td>\n",
       "      <td>2022</td>\n",
       "      <td>30,363</td>\n",
       "    </tr>\n",
       "    <tr>\n",
       "      <th>164153</th>\n",
       "      <td>ACR126</td>\n",
       "      <td>2022</td>\n",
       "      <td>2,330</td>\n",
       "    </tr>\n",
       "    <tr>\n",
       "      <th>164154</th>\n",
       "      <td>ACR199</td>\n",
       "      <td>2022</td>\n",
       "      <td>0</td>\n",
       "    </tr>\n",
       "    <tr>\n",
       "      <th>164155</th>\n",
       "      <td>ACR361</td>\n",
       "      <td>2022</td>\n",
       "      <td>0</td>\n",
       "    </tr>\n",
       "    <tr>\n",
       "      <th>164156</th>\n",
       "      <td>ACR420</td>\n",
       "      <td>2022</td>\n",
       "      <td>0</td>\n",
       "    </tr>\n",
       "    <tr>\n",
       "      <th>164157</th>\n",
       "      <td>CAR691</td>\n",
       "      <td>2022</td>\n",
       "      <td>21,317</td>\n",
       "    </tr>\n",
       "    <tr>\n",
       "      <th>164158</th>\n",
       "      <td>ACR121</td>\n",
       "      <td>2022</td>\n",
       "      <td>0</td>\n",
       "    </tr>\n",
       "    <tr>\n",
       "      <th>164159</th>\n",
       "      <td>CAR1339</td>\n",
       "      <td>2022</td>\n",
       "      <td>0</td>\n",
       "    </tr>\n",
       "    <tr>\n",
       "      <th>164160</th>\n",
       "      <td>CAR766</td>\n",
       "      <td>2022</td>\n",
       "      <td>95,022</td>\n",
       "    </tr>\n",
       "    <tr>\n",
       "      <th>164161</th>\n",
       "      <td>ACR260</td>\n",
       "      <td>2022</td>\n",
       "      <td>0</td>\n",
       "    </tr>\n",
       "    <tr>\n",
       "      <th>164162</th>\n",
       "      <td>CAR1205</td>\n",
       "      <td>2022</td>\n",
       "      <td>0</td>\n",
       "    </tr>\n",
       "    <tr>\n",
       "      <th>164163</th>\n",
       "      <td>ACR248</td>\n",
       "      <td>2022</td>\n",
       "      <td>0</td>\n",
       "    </tr>\n",
       "    <tr>\n",
       "      <th>164164</th>\n",
       "      <td>CAR973</td>\n",
       "      <td>2022</td>\n",
       "      <td>0</td>\n",
       "    </tr>\n",
       "    <tr>\n",
       "      <th>164165</th>\n",
       "      <td>CAR1215</td>\n",
       "      <td>2022</td>\n",
       "      <td>0</td>\n",
       "    </tr>\n",
       "    <tr>\n",
       "      <th>164166</th>\n",
       "      <td>ACR105</td>\n",
       "      <td>2022</td>\n",
       "      <td>0</td>\n",
       "    </tr>\n",
       "    <tr>\n",
       "      <th>164167</th>\n",
       "      <td>CAR730</td>\n",
       "      <td>2022</td>\n",
       "      <td>0</td>\n",
       "    </tr>\n",
       "    <tr>\n",
       "      <th>164168</th>\n",
       "      <td>ACR416</td>\n",
       "      <td>2022</td>\n",
       "      <td>0</td>\n",
       "    </tr>\n",
       "    <tr>\n",
       "      <th>164169</th>\n",
       "      <td>ACR268</td>\n",
       "      <td>2022</td>\n",
       "      <td>0</td>\n",
       "    </tr>\n",
       "    <tr>\n",
       "      <th>164170</th>\n",
       "      <td>CAR1175</td>\n",
       "      <td>2022</td>\n",
       "      <td>0</td>\n",
       "    </tr>\n",
       "    <tr>\n",
       "      <th>164171</th>\n",
       "      <td>CAR1183</td>\n",
       "      <td>2022</td>\n",
       "      <td>0</td>\n",
       "    </tr>\n",
       "    <tr>\n",
       "      <th>164172</th>\n",
       "      <td>ACR211</td>\n",
       "      <td>2022</td>\n",
       "      <td>0</td>\n",
       "    </tr>\n",
       "    <tr>\n",
       "      <th>164173</th>\n",
       "      <td>ACR249</td>\n",
       "      <td>2022</td>\n",
       "      <td>0</td>\n",
       "    </tr>\n",
       "    <tr>\n",
       "      <th>164174</th>\n",
       "      <td>ACR437</td>\n",
       "      <td>2022</td>\n",
       "      <td>0</td>\n",
       "    </tr>\n",
       "    <tr>\n",
       "      <th>164175</th>\n",
       "      <td>ACR114</td>\n",
       "      <td>2022</td>\n",
       "      <td>91,020</td>\n",
       "    </tr>\n",
       "    <tr>\n",
       "      <th>164176</th>\n",
       "      <td>ACR303</td>\n",
       "      <td>2022</td>\n",
       "      <td>0</td>\n",
       "    </tr>\n",
       "    <tr>\n",
       "      <th>164177</th>\n",
       "      <td>CAR1264</td>\n",
       "      <td>2022</td>\n",
       "      <td>0</td>\n",
       "    </tr>\n",
       "    <tr>\n",
       "      <th>164178</th>\n",
       "      <td>ACR117</td>\n",
       "      <td>2022</td>\n",
       "      <td>150,000</td>\n",
       "    </tr>\n",
       "    <tr>\n",
       "      <th>164179</th>\n",
       "      <td>ACR123</td>\n",
       "      <td>2022</td>\n",
       "      <td>0</td>\n",
       "    </tr>\n",
       "    <tr>\n",
       "      <th>164180</th>\n",
       "      <td>ACR102</td>\n",
       "      <td>2022</td>\n",
       "      <td>0</td>\n",
       "    </tr>\n",
       "    <tr>\n",
       "      <th>164181</th>\n",
       "      <td>CAR639</td>\n",
       "      <td>2022</td>\n",
       "      <td>0</td>\n",
       "    </tr>\n",
       "    <tr>\n",
       "      <th>164182</th>\n",
       "      <td>ACR324</td>\n",
       "      <td>2022</td>\n",
       "      <td>0</td>\n",
       "    </tr>\n",
       "    <tr>\n",
       "      <th>164183</th>\n",
       "      <td>ACR255</td>\n",
       "      <td>2022</td>\n",
       "      <td>0</td>\n",
       "    </tr>\n",
       "    <tr>\n",
       "      <th>164184</th>\n",
       "      <td>ACR360</td>\n",
       "      <td>2022</td>\n",
       "      <td>0</td>\n",
       "    </tr>\n",
       "    <tr>\n",
       "      <th>164185</th>\n",
       "      <td>ACR101</td>\n",
       "      <td>2022</td>\n",
       "      <td>NaN</td>\n",
       "    </tr>\n",
       "    <tr>\n",
       "      <th>164186</th>\n",
       "      <td>CAR1000</td>\n",
       "      <td>2022</td>\n",
       "      <td>NaN</td>\n",
       "    </tr>\n",
       "  </tbody>\n",
       "</table>\n",
       "</div>"
      ],
      "text/plain": [
       "       Project ID year_cred_retire carbon_cred_retire\n",
       "164137     ACR427             2022                  0\n",
       "164138    CAR1197             2022                  0\n",
       "164139     ACR212             2022             54,646\n",
       "164140    CAR1139             2022                  0\n",
       "164141     ACR118             2022                  0\n",
       "164142     ACR269             2022                  0\n",
       "164143    CAR1292             2022            321,187\n",
       "164144     CAR102             2022                336\n",
       "164145     ACR267             2022                  0\n",
       "164146    CAR1095             2022                  0\n",
       "164147     CAR768             2022                 29\n",
       "164148    CAR1257             2022                  0\n",
       "164149     ACR120             2022                  0\n",
       "164150     ACR276             2022                  0\n",
       "164151     ACR413             2022                  0\n",
       "164152     CAR408             2022             30,363\n",
       "164153     ACR126             2022              2,330\n",
       "164154     ACR199             2022                  0\n",
       "164155     ACR361             2022                  0\n",
       "164156     ACR420             2022                  0\n",
       "164157     CAR691             2022             21,317\n",
       "164158     ACR121             2022                  0\n",
       "164159    CAR1339             2022                  0\n",
       "164160     CAR766             2022             95,022\n",
       "164161     ACR260             2022                  0\n",
       "164162    CAR1205             2022                  0\n",
       "164163     ACR248             2022                  0\n",
       "164164     CAR973             2022                  0\n",
       "164165    CAR1215             2022                  0\n",
       "164166     ACR105             2022                  0\n",
       "164167     CAR730             2022                  0\n",
       "164168     ACR416             2022                  0\n",
       "164169     ACR268             2022                  0\n",
       "164170    CAR1175             2022                  0\n",
       "164171    CAR1183             2022                  0\n",
       "164172     ACR211             2022                  0\n",
       "164173     ACR249             2022                  0\n",
       "164174     ACR437             2022                  0\n",
       "164175     ACR114             2022             91,020\n",
       "164176     ACR303             2022                  0\n",
       "164177    CAR1264             2022                  0\n",
       "164178     ACR117             2022            150,000\n",
       "164179     ACR123             2022                  0\n",
       "164180     ACR102             2022                  0\n",
       "164181     CAR639             2022                  0\n",
       "164182     ACR324             2022                  0\n",
       "164183     ACR255             2022                  0\n",
       "164184     ACR360             2022                  0\n",
       "164185     ACR101             2022                NaN\n",
       "164186    CAR1000             2022                NaN"
      ]
     },
     "execution_count": 118,
     "metadata": {},
     "output_type": "execute_result"
    }
   ],
   "source": [
    "df_melt2.tail(50)"
   ]
  },
  {
   "cell_type": "code",
   "execution_count": 90,
   "id": "25a121cd",
   "metadata": {},
   "outputs": [],
   "source": [
    "df_melt3 = pd.melt(full_df, id_vars='Project ID', value_vars=['1996.3','1997.3','1998.3', '1999.3','2000.3','2001.3','2002.3','2003.3','2004.3',\n",
    "                                                       '2005.3','2006.3','2007.3','2008.3','2009.3','2010.3','2011.3','2012.3','2013.3','2014.3',\n",
    "                                                       '2015.3','2016.3','2017.3','2018.3','2019.3','2020.3','2021.3','2022.3'], var_name ='year_cred_reg', value_name='carbon_cred_reg')"
   ]
  },
  {
   "cell_type": "code",
   "execution_count": 104,
   "id": "a39ff19d",
   "metadata": {},
   "outputs": [],
   "source": [
    "df_melt2[\"year_cred_retire\"] = df_melt2[\"year_cred_retire\"].astype(\"string\")\n",
    "df_melt3[\"year_cred_reg\"] = df_melt3[\"year_cred_reg\"].astype(\"string\")"
   ]
  },
  {
   "cell_type": "code",
   "execution_count": 105,
   "id": "d2d78e18",
   "metadata": {},
   "outputs": [],
   "source": [
    "#data['result'] = data['result'].map(lambda x: x.lstrip('+-').rstrip('aAbBcC'))\n",
    "#df_melt2[\"year_cred_retire\"]=df_melt2[\"year_cred_retire\"].map(lambda x: x.rstrip('.1'))\n",
    "#df_melt2[\"year_cred_retire\"]=df_melt2[\"year_cred_retire\"].str.replace(\".1\",\"\")\n",
    "#df_melt3[\"year_cred_reg\"]=df_melt3[\"year_cred_reg\"].str.replace(\".3\",\"\")\n",
    "df_melt2[\"year_cred_retire\"]=df_melt2[\"year_cred_retire\"].str[:-2]\n"
   ]
  },
  {
   "cell_type": "code",
   "execution_count": 108,
   "id": "7dc1a58c",
   "metadata": {},
   "outputs": [],
   "source": [
    "df_melt3[\"year_cred_reg\"]=df_melt3[\"year_cred_reg\"].str[:-2]"
   ]
  },
  {
   "cell_type": "code",
   "execution_count": 110,
   "id": "1110a51f",
   "metadata": {},
   "outputs": [
    {
     "data": {
      "text/plain": [
       "1996    6081\n",
       "1997    6081\n",
       "1998    6081\n",
       "1999    6081\n",
       "2000    6081\n",
       "2001    6081\n",
       "2002    6081\n",
       "2003    6081\n",
       "2004    6081\n",
       "2005    6081\n",
       "2006    6081\n",
       "2007    6081\n",
       "2008    6081\n",
       "2009    6081\n",
       "2010    6081\n",
       "2011    6081\n",
       "2012    6081\n",
       "2013    6081\n",
       "2014    6081\n",
       "2015    6081\n",
       "2016    6081\n",
       "2017    6081\n",
       "2018    6081\n",
       "2019    6081\n",
       "2020    6081\n",
       "2021    6081\n",
       "2022    6081\n",
       "Name: year_cred_reg, dtype: Int64"
      ]
     },
     "execution_count": 110,
     "metadata": {},
     "output_type": "execute_result"
    }
   ],
   "source": [
    "df_melt3.year_cred_reg.value_counts()"
   ]
  },
  {
   "cell_type": "code",
   "execution_count": 111,
   "id": "b1b3ca71",
   "metadata": {},
   "outputs": [],
   "source": [
    "df_melt_merge=pd.merge(df_melt1, df_melt2, left_on=['Project ID','year_cred_issued'], \n",
    "                       right_on=['Project ID','year_cred_retire'], how='outer')"
   ]
  },
  {
   "cell_type": "code",
   "execution_count": 112,
   "id": "649e5ce7",
   "metadata": {},
   "outputs": [
    {
     "name": "stdout",
     "output_type": "stream",
     "text": [
      "<class 'pandas.core.frame.DataFrame'>\n",
      "Int64Index: 164187 entries, 0 to 164186\n",
      "Data columns (total 5 columns):\n",
      " #   Column              Non-Null Count   Dtype \n",
      "---  ------              --------------   ----- \n",
      " 0   Project ID          164187 non-null  object\n",
      " 1   year_cred_issued    164187 non-null  object\n",
      " 2   carbon_cred_issued  164079 non-null  object\n",
      " 3   year_cred_retire    164187 non-null  string\n",
      " 4   carbon_cred_retire  164079 non-null  object\n",
      "dtypes: object(4), string(1)\n",
      "memory usage: 7.5+ MB\n"
     ]
    }
   ],
   "source": [
    "df_melt_merge.info()"
   ]
  },
  {
   "cell_type": "code",
   "execution_count": 114,
   "id": "7f2463cc",
   "metadata": {},
   "outputs": [],
   "source": [
    "df_melt_merge=pd.merge(df_melt_merge, df_melt3, left_on=['Project ID','year_cred_issued'], \n",
    "                       right_on=['Project ID','year_cred_reg'], how='outer')"
   ]
  },
  {
   "cell_type": "code",
   "execution_count": 116,
   "id": "27de7e00",
   "metadata": {},
   "outputs": [
    {
     "name": "stdout",
     "output_type": "stream",
     "text": [
      "<class 'pandas.core.frame.DataFrame'>\n",
      "Int64Index: 164187 entries, 0 to 164186\n",
      "Data columns (total 7 columns):\n",
      " #   Column              Non-Null Count   Dtype \n",
      "---  ------              --------------   ----- \n",
      " 0   Project ID          164187 non-null  object\n",
      " 1   year_cred_issued    164187 non-null  object\n",
      " 2   carbon_cred_issued  164079 non-null  object\n",
      " 3   year_cred_retire    164187 non-null  string\n",
      " 4   carbon_cred_retire  164079 non-null  object\n",
      " 5   year_cred_reg       164187 non-null  string\n",
      " 6   carbon_cred_reg     164079 non-null  object\n",
      "dtypes: object(5), string(2)\n",
      "memory usage: 10.0+ MB\n"
     ]
    }
   ],
   "source": [
    "df_melt_merge.info()"
   ]
  },
  {
   "cell_type": "code",
   "execution_count": 122,
   "id": "bbb00c14",
   "metadata": {},
   "outputs": [],
   "source": [
    "df_final= pd.merge(full_df.iloc[:,0:18],df_melt_merge, how='left', on='Project ID')"
   ]
  },
  {
   "cell_type": "code",
   "execution_count": 123,
   "id": "d547ba30",
   "metadata": {},
   "outputs": [
    {
     "name": "stdout",
     "output_type": "stream",
     "text": [
      "<class 'pandas.core.frame.DataFrame'>\n",
      "Int64Index: 164187 entries, 0 to 164186\n",
      "Data columns (total 24 columns):\n",
      " #   Column                   Non-Null Count   Dtype  \n",
      "---  ------                   --------------   -----  \n",
      " 0   Project ID               164187 non-null  object \n",
      " 1   Project Name             164160 non-null  object \n",
      " 2   Voluntary Registry       164187 non-null  object \n",
      " 3   ARB \n",
      "Project             164187 non-null  object \n",
      " 4   Voluntary Status         156627 non-null  object \n",
      " 5   Scope                    164187 non-null  object \n",
      " 6    Type                    164187 non-null  object \n",
      " 7   Reduction / Removal      164187 non-null  object \n",
      " 8   Methodology / Protocol   125901 non-null  object \n",
      " 9   Region                   164187 non-null  object \n",
      " 10  Country                  164187 non-null  object \n",
      " 11  State                    34722 non-null   object \n",
      " 12  Project Site Location    33777 non-null   object \n",
      " 13  Project Developer        164187 non-null  object \n",
      " 14  Total Credits \n",
      "Issued    164133 non-null  object \n",
      " 15  Total Credits \n",
      "Retired   164160 non-null  object \n",
      " 16  Total Credits Remaining  164187 non-null  object \n",
      " 17  First Year of Project    97821 non-null   float64\n",
      " 18  year_cred_issued         164187 non-null  object \n",
      " 19  carbon_cred_issued       164079 non-null  object \n",
      " 20  year_cred_retire         164187 non-null  string \n",
      " 21  carbon_cred_retire       164079 non-null  object \n",
      " 22  year_cred_reg            164187 non-null  string \n",
      " 23  carbon_cred_reg          164079 non-null  object \n",
      "dtypes: float64(1), object(21), string(2)\n",
      "memory usage: 31.3+ MB\n"
     ]
    }
   ],
   "source": [
    "df_final.info()"
   ]
  },
  {
   "cell_type": "code",
   "execution_count": 124,
   "id": "87bc008a",
   "metadata": {},
   "outputs": [],
   "source": [
    "df_final.to_csv(\"carbon_credits_final.csv\")"
   ]
  }
 ],
 "metadata": {
  "kernelspec": {
   "display_name": "Python 3 (ipykernel)",
   "language": "python",
   "name": "python3"
  },
  "language_info": {
   "codemirror_mode": {
    "name": "ipython",
    "version": 3
   },
   "file_extension": ".py",
   "mimetype": "text/x-python",
   "name": "python",
   "nbconvert_exporter": "python",
   "pygments_lexer": "ipython3",
   "version": "3.9.12"
  }
 },
 "nbformat": 4,
 "nbformat_minor": 5
}
