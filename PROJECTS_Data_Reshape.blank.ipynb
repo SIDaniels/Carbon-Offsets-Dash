{
  "metadata": {
    "kernelspec": {
      "display_name": "Python 3 (ipykernel)",
      "language": "python",
      "name": "python3"
    },
    "language_info": {
      "name": "python",
      "version": "3.7.12",
      "mimetype": "text/x-python",
      "codemirror_mode": {
        "name": "ipython",
        "version": 3
      },
      "pygments_lexer": "ipython3",
      "nbconvert_exporter": "python",
      "file_extension": ".py"
    }
  },
  "nbformat_minor": 5,
  "nbformat": 4,
  "cells": [
    {
      "cell_type": "code",
      "source": "import pandas as pd\nfrom functools import reduce",
      "metadata": {
        "trusted": true
      },
      "execution_count": null,
      "outputs": [],
      "id": "ff250ad9"
    },
    {
      "cell_type": "code",
      "source": "%%capture\nfull_df=pd.read_csv('PROJECTS.csv')",
      "metadata": {
        "trusted": true
      },
      "execution_count": null,
      "outputs": [],
      "id": "1ab6ed30"
    },
    {
      "cell_type": "code",
      "source": "%%capture\nfull_df.info()",
      "metadata": {
        "trusted": true
      },
      "execution_count": null,
      "outputs": [],
      "id": "40237938"
    },
    {
      "cell_type": "code",
      "source": "for x in full_df.iloc[:,18:100]:\n    full_df[x] = full_df[x].astype('string')",
      "metadata": {
        "trusted": true
      },
      "execution_count": null,
      "outputs": [],
      "id": "f09cc4f3"
    },
    {
      "cell_type": "code",
      "source": "for x in full_df.iloc[:,18:100]:\n    full_df[x] = full_df[x].str.replace(',', '').astype(float)",
      "metadata": {
        "trusted": true
      },
      "execution_count": null,
      "outputs": [],
      "id": "726bbc90"
    },
    {
      "cell_type": "code",
      "source": "for x in full_df.iloc[:,115:142]:\n    full_df[x] = full_df[x].astype('string')",
      "metadata": {
        "trusted": true
      },
      "execution_count": null,
      "outputs": [],
      "id": "31178858"
    },
    {
      "cell_type": "code",
      "source": "for x in full_df.iloc[:,115:142]:\n    full_df[x] = full_df[x].str.replace(',', '').astype(float)",
      "metadata": {
        "trusted": true
      },
      "execution_count": null,
      "outputs": [],
      "id": "9150a2a3"
    },
    {
      "cell_type": "code",
      "source": "%%capture\nfull_df['2020.3'].sum()",
      "metadata": {
        "trusted": true
      },
      "execution_count": null,
      "outputs": [],
      "id": "9990c999"
    },
    {
      "cell_type": "code",
      "source": "for x in full_df.iloc[:,18:100]:\n    full_df[x] = full_df[x].astype('string')",
      "metadata": {
        "trusted": true
      },
      "execution_count": null,
      "outputs": [],
      "id": "4525eeef"
    },
    {
      "cell_type": "code",
      "source": "%%capture\nfull_df.iloc[:, 114:142].info()",
      "metadata": {
        "trusted": true
      },
      "execution_count": null,
      "outputs": [],
      "id": "c61bd544"
    },
    {
      "cell_type": "code",
      "source": "df_melt1 = pd.melt(full_df, id_vars='Project ID', value_vars=['1996','1997','1998', '1999','2000','2001','2002','2003','2004',\n                                                       '2005','2006','2007','2008','2009','2010','2011','2012','2013','2014',\n                                                       '2015','2016','2017','2018','2019','2020','2021','2022'], var_name ='year_cred_issued', value_name='carbon_cred_issued')\n",
      "metadata": {
        "trusted": true
      },
      "execution_count": null,
      "outputs": [],
      "id": "7b37bd48"
    },
    {
      "cell_type": "code",
      "source": "%%capture\ndf_melt1.info()",
      "metadata": {
        "trusted": true
      },
      "execution_count": null,
      "outputs": [],
      "id": "11b675e9"
    },
    {
      "cell_type": "code",
      "source": "%%capture d0\ndf_melt1.tail()",
      "metadata": {
        "trusted": true
      },
      "execution_count": null,
      "outputs": [],
      "id": "d801f1f7-aa5f-4971-82f5-dbcf210bb489"
    },
    {
      "cell_type": "code",
      "source": "##need to fix year unknown\ndf_melt2 = pd.melt(full_df, id_vars='Project ID', value_vars=['1996.1','1997.1','1998.1', '1999.1','2000.1','2001.1','2002.1','2003.1','2004.1',\n                                                       '2005.1','2006.1','2007.1','2008.1','2009.1','2010.1','2011.1','2012.1','2013.1','2014.1',\n                                                       '2015.1','2016.1','2017.1','2018.1','2019.1','2020.1','2021.1','2022.1'], var_name ='year_cred_retire', value_name='carbon_cred_retire')\n",
      "metadata": {
        "trusted": true
      },
      "execution_count": null,
      "outputs": [],
      "id": "0b741b1e"
    },
    {
      "cell_type": "code",
      "source": "%%capture d1\ndf_melt2.tail()",
      "metadata": {
        "trusted": true
      },
      "execution_count": null,
      "outputs": [],
      "id": "f36b020e"
    },
    {
      "cell_type": "code",
      "source": "df_melt3 = pd.melt(full_df, id_vars='Project ID', value_vars=['1996.3','1997.3','1998.3', '1999.3','2000.3','2001.3','2002.3','2003.3','2004.3',\n                                                       '2005.3','2006.3','2007.3','2008.3','2009.3','2010.3','2011.3','2012.3','2013.3','2014.3',\n                                                       '2015.3','2016.3','2017.3','2018.3','2019.3','2020.3','2021.3','2022.3'], var_name ='year_cred_reg', value_name='carbon_cred_reg')",
      "metadata": {
        "trusted": true
      },
      "execution_count": null,
      "outputs": [],
      "id": "25a121cd"
    },
    {
      "cell_type": "code",
      "source": "df_melt2[\"year_cred_retire\"] = df_melt2[\"year_cred_retire\"].astype(\"string\")\ndf_melt3[\"year_cred_reg\"] = df_melt3[\"year_cred_reg\"].astype(\"string\")",
      "metadata": {
        "trusted": true
      },
      "execution_count": null,
      "outputs": [],
      "id": "a39ff19d"
    },
    {
      "cell_type": "code",
      "source": "#data['result'] = data['result'].map(lambda x: x.lstrip('+-').rstrip('aAbBcC'))\n#df_melt2[\"year_cred_retire\"]=df_melt2[\"year_cred_retire\"].map(lambda x: x.rstrip('.1'))\n#df_melt2[\"year_cred_retire\"]=df_melt2[\"year_cred_retire\"].str.replace(\".1\",\"\")\n#df_melt3[\"year_cred_reg\"]=df_melt3[\"year_cred_reg\"].str.replace(\".3\",\"\")\ndf_melt2[\"year_cred_retire\"]=df_melt2[\"year_cred_retire\"].str[:-2]\n",
      "metadata": {
        "trusted": true
      },
      "execution_count": null,
      "outputs": [],
      "id": "d2d78e18"
    },
    {
      "cell_type": "code",
      "source": "df_melt3[\"year_cred_reg\"]=df_melt3[\"year_cred_reg\"].str[:-2]",
      "metadata": {
        "trusted": true
      },
      "execution_count": null,
      "outputs": [],
      "id": "7dc1a58c"
    },
    {
      "cell_type": "code",
      "source": "%%capture\ndf_melt3.year_cred_reg.value_counts()",
      "metadata": {
        "trusted": true
      },
      "execution_count": null,
      "outputs": [],
      "id": "1110a51f"
    },
    {
      "cell_type": "code",
      "source": "df_melt_merge=pd.merge(df_melt1, df_melt2, left_on=['Project ID','year_cred_issued'], \n                       right_on=['Project ID','year_cred_retire'], how='outer')",
      "metadata": {
        "trusted": true
      },
      "execution_count": null,
      "outputs": [],
      "id": "b1b3ca71"
    },
    {
      "cell_type": "code",
      "source": "%%capture\ndf_melt_merge.info()",
      "metadata": {
        "trusted": true
      },
      "execution_count": null,
      "outputs": [],
      "id": "649e5ce7"
    },
    {
      "cell_type": "code",
      "source": "%%capture d2\ndf_melt_merge.tail()",
      "metadata": {
        "trusted": true
      },
      "execution_count": null,
      "outputs": [],
      "id": "bf203ad9-5e99-4794-a7c3-729b6c7b5f58"
    },
    {
      "cell_type": "code",
      "source": "df_melt_merge=pd.merge(df_melt_merge, df_melt3, left_on=['Project ID','year_cred_issued'], \n                       right_on=['Project ID','year_cred_reg'], how='outer')",
      "metadata": {
        "trusted": true
      },
      "execution_count": null,
      "outputs": [],
      "id": "7f2463cc"
    },
    {
      "cell_type": "code",
      "source": "%%capture\ndf_melt_merge.info()",
      "metadata": {
        "trusted": true
      },
      "execution_count": null,
      "outputs": [],
      "id": "27de7e00"
    },
    {
      "cell_type": "code",
      "source": "%%capture d3\ndf_melt_merge.tail()",
      "metadata": {
        "trusted": true
      },
      "execution_count": null,
      "outputs": [],
      "id": "f4c0c46d-1749-4e2f-9838-b5a1ad4ce5e0"
    },
    {
      "cell_type": "code",
      "source": "df_final= pd.merge(full_df.iloc[:,0:18],df_melt_merge, how='left', on='Project ID')",
      "metadata": {
        "trusted": true
      },
      "execution_count": null,
      "outputs": [],
      "id": "bbb00c14"
    },
    {
      "cell_type": "code",
      "source": "%%capture\ndf_final.info()",
      "metadata": {
        "trusted": true
      },
      "execution_count": null,
      "outputs": [],
      "id": "d547ba30"
    },
    {
      "cell_type": "code",
      "source": "%%capture d4\ndf_final.tail()",
      "metadata": {
        "trusted": true
      },
      "execution_count": null,
      "outputs": [],
      "id": "8c88ef72-c26e-40ce-b0d9-11a0b54c20f9"
    },
    {
      "cell_type": "code",
      "source": "d0()",
      "metadata": {
        "trusted": true
      },
      "execution_count": null,
      "outputs": [],
      "id": "8976f207-a46a-4e10-be48-4865512b310a"
    },
    {
      "cell_type": "code",
      "source": "d1()",
      "metadata": {
        "trusted": true
      },
      "execution_count": null,
      "outputs": [],
      "id": "55b5d510-714e-4773-b419-2a9d06b7be4b"
    },
    {
      "cell_type": "code",
      "source": "d2()",
      "metadata": {
        "trusted": true
      },
      "execution_count": null,
      "outputs": [],
      "id": "aa9426c0-3553-4cf9-bd6f-066c6eea23d6"
    },
    {
      "cell_type": "code",
      "source": "d3()",
      "metadata": {
        "trusted": true
      },
      "execution_count": null,
      "outputs": [],
      "id": "bc6a056f-4e09-4278-93c1-69cae4b0c2f9"
    },
    {
      "cell_type": "code",
      "source": "d4()",
      "metadata": {
        "trusted": true
      },
      "execution_count": null,
      "outputs": [],
      "id": "7cc95bd1-e53b-414c-952a-bb198d48a32d"
    },
    {
      "cell_type": "code",
      "source": "df_final.to_csv(\"carbon_credits_final.csv\")",
      "metadata": {
        "trusted": true
      },
      "execution_count": null,
      "outputs": [],
      "id": "87bc008a"
    }
  ]
}